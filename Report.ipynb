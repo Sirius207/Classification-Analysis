{
 "cells": [
  {
   "cell_type": "markdown",
   "metadata": {},
   "source": [
    "<h1 style=\"text-align: center;\">Data Mining Project 2: Classification Analysis</h1>\n",
    "\n",
    "<p style=\"text-align:center;\">\n",
    "    呂伯駿<br>\n",
    "    Q56074085<br>\n",
    "    NetDB<br>\n",
    "    National Cheng Kung University<br>\n",
    "    pclu@netdb.csie.ncku.edu.tw\n",
    "</p>\n"
   ]
  },
  {
   "cell_type": "markdown",
   "metadata": {},
   "source": [
    "## 1. Introduction\n",
    "\n",
    "\n",
    "\n",
    "\n",
    "## 2. Environment\n",
    "\n",
    "### 2.1 System Preferences\n",
    "\n",
    "實驗環境如下：\n",
    "- <b>Operating System</b>: macOS High Sierra (10.13.6)\n",
    "- <b>CPU</b>: 1.3 GHz Intel Core i5\n",
    "- <b>Memory</b>: 8 GB 1600 MHz DDR3\n",
    "- <b>Programming Language</b> : Python 3.6.2\n",
    "\n",
    "由於所用資料集皆僅有1000筆資料，實驗環境記憶體足以符合實驗需求。\n",
    "\n",
    "### 2.2 Dataset\n",
    "\n",
    "#### 資料參數\n",
    "本次實驗採用合成資料(預測分類)，資料集之參數設定如下：\n",
    "\n",
    "| ID     | Number of Real Column | Number of Fake Column  |  Number of options | Counts | Full Population Index |\n",
    "| ------------- |:-------------:| -----:|\n",
    "| 50_r3_f3_c5 | 3 |  3 | 5| 1000|50 |\n",
    "| 50_r3_f6_c5 | 3 |  6 | 5| 1000|50 |\n",
    "| 50_r3_f9_c5 | 3 |  9 | 5| 1000|50 |\n",
    "| 50_r3_f12_c5 | 3 |  12 | 5| 1000|50 |\n",
    "| 50_r3_f15_c5 | 3 |  15 | 5| 1000|50 |\n",
    "| 100_r3_f3_c5 | 3 |  3 | 5| 1000|100 |\n",
    "| 100_r3_f6_c5 | 3 |  6 | 5| 1000|100 |\n",
    "| 100_r3_f9_c5 | 3 |  9 | 5| 1000|100 |\n",
    "| 100_r3_f12_c5 | 3 |  12 | 5| 1000|100 |\n",
    "| 100_r3_f15_c5 | 3 |  15 | 5| 1000|100 |\n",
    "\n",
    "#### 欄位說明：\n",
    "- Number of Real Column: 對分類結果有影響之欄位數目\n",
    "- Number of Fake Column: 對分類結果沒有影響之欄位數目\n",
    "- Number of options: 每項欄位可能之數值種類\n",
    "- Counts: 該資料集總資料筆數\n",
    "- Full Population Index: 該資料集資料佔分類母體達100% 時之資料百分比\n",
    "\n",
    "\n",
    "#### 分類說明：\n",
    "所預測之欄位為分類，有兩種分類 \"A\" & \"B\"。 <br>\n",
    "\n",
    "以 50_r3_f3_c5 資料集為例，會影響分類之欄位數目為3，每種欄位有 5 種可能之數值，因此該資料集可能影響分類之規則有 5^3 = 125 種，而假欄位的數目為3，因此所有可能的資料有 15625 種，我們僅sample 出 1000筆資料，佔所有可能之 6.4%。<br>\n",
    "\n",
    "其 Full Population Index 為 50，表示資料取到第500筆時(50%資料)，125種分類規則已全數出現於資料集中，後續500筆資料，在前三個有效欄位不會再出現新的組合。\n",
    "\n",
    "### 資料範例\n",
    "\n",
    "資料範例如下： 其中 F0~F2 為有效欄位，F3~F5為無效欄位，y為分類。"
   ]
  },
  {
   "cell_type": "code",
   "execution_count": 1,
   "metadata": {},
   "outputs": [
    {
     "data": {
      "text/html": [
       "<div>\n",
       "<style scoped>\n",
       "    .dataframe tbody tr th:only-of-type {\n",
       "        vertical-align: middle;\n",
       "    }\n",
       "\n",
       "    .dataframe tbody tr th {\n",
       "        vertical-align: top;\n",
       "    }\n",
       "\n",
       "    .dataframe thead th {\n",
       "        text-align: right;\n",
       "    }\n",
       "</style>\n",
       "<table border=\"1\" class=\"dataframe\">\n",
       "  <thead>\n",
       "    <tr style=\"text-align: right;\">\n",
       "      <th></th>\n",
       "      <th>F0</th>\n",
       "      <th>F1</th>\n",
       "      <th>F2</th>\n",
       "      <th>F3</th>\n",
       "      <th>F4</th>\n",
       "      <th>F5</th>\n",
       "      <th>y</th>\n",
       "    </tr>\n",
       "  </thead>\n",
       "  <tbody>\n",
       "    <tr>\n",
       "      <th>0</th>\n",
       "      <td>3</td>\n",
       "      <td>3</td>\n",
       "      <td>1</td>\n",
       "      <td>1</td>\n",
       "      <td>0</td>\n",
       "      <td>2</td>\n",
       "      <td>A</td>\n",
       "    </tr>\n",
       "    <tr>\n",
       "      <th>1</th>\n",
       "      <td>0</td>\n",
       "      <td>4</td>\n",
       "      <td>1</td>\n",
       "      <td>0</td>\n",
       "      <td>0</td>\n",
       "      <td>1</td>\n",
       "      <td>A</td>\n",
       "    </tr>\n",
       "    <tr>\n",
       "      <th>2</th>\n",
       "      <td>1</td>\n",
       "      <td>0</td>\n",
       "      <td>0</td>\n",
       "      <td>2</td>\n",
       "      <td>0</td>\n",
       "      <td>2</td>\n",
       "      <td>A</td>\n",
       "    </tr>\n",
       "    <tr>\n",
       "      <th>3</th>\n",
       "      <td>0</td>\n",
       "      <td>3</td>\n",
       "      <td>0</td>\n",
       "      <td>3</td>\n",
       "      <td>0</td>\n",
       "      <td>4</td>\n",
       "      <td>A</td>\n",
       "    </tr>\n",
       "    <tr>\n",
       "      <th>4</th>\n",
       "      <td>2</td>\n",
       "      <td>1</td>\n",
       "      <td>1</td>\n",
       "      <td>2</td>\n",
       "      <td>2</td>\n",
       "      <td>0</td>\n",
       "      <td>A</td>\n",
       "    </tr>\n",
       "  </tbody>\n",
       "</table>\n",
       "</div>"
      ],
      "text/plain": [
       "   F0  F1  F2  F3  F4  F5  y\n",
       "0   3   3   1   1   0   2  A\n",
       "1   0   4   1   0   0   1  A\n",
       "2   1   0   0   2   0   2  A\n",
       "3   0   3   0   3   0   4  A\n",
       "4   2   1   1   2   2   0  A"
      ]
     },
     "execution_count": 1,
     "metadata": {},
     "output_type": "execute_result"
    }
   ],
   "source": [
    "import pandas as pd\n",
    "data = pd.read_csv('data/50/r3_f3_c5/training.csv')\n",
    "data.head()"
   ]
  },
  {
   "cell_type": "markdown",
   "metadata": {},
   "source": [
    "該資料集之資料index佔母體之趨勢變化如下。\n",
    "\n",
    "| 100 | 200 | 300 | 400 | 500 | 600| 700| 800 | 900| 1000|\n",
    "| ------------- |:-------------:| -----:|-----:|-----:|-----:|-----:|-----:|-----:|\n",
    "| 53.6% | 77.6% | 90.4% | 96.8% | 97.6% | 100%| 100% | 100%| 100%| 100%|"
   ]
  },
  {
   "cell_type": "markdown",
   "metadata": {},
   "source": [
    "\n",
    "## 3. Implementation\n",
    "\n",
    "### Data generation\n",
    "\n",
    "資料產生分為三個階段，(1)規則樹的產生，(2)將規則樹轉化為規則陣列，(3)以及根據該規則陣列產生資料集。\n",
    "\n",
    "若有三個欄位5種數值，則會產生 3 層，最終 125 leaves 之樹\n",
    "\n",
    "若僅有兩個欄位，每個欄位兩種數值，則為基本二元樹，產生之樹呈現上如下圖：\n",
    "\n",
    "![](https://i.imgur.com/kHqxlbp.png)\n",
    "\n",
    "若第一個欄位數值為 0 ，第二個欄位數值為 1，則分類為 B\n",
    "\n",
    "\n",
    "### Classification\n",
    "\n",
    "由於目的是比較算法產生之分類規則與實際制定之分類規則上之差異，我們需採用可解釋結果之模型，因此分類上使用 scikit learn Package 之 Decision Tree 算法進行分類。\n",
    "\n",
    "\n",
    "## 4. Analysis"
   ]
  },
  {
   "cell_type": "markdown",
   "metadata": {},
   "source": [
    "實驗將比較改變不同 training data 數目，不同無效欄位數目，以及不同資料母體趨勢 (Full Population Index)時，其準確度，決策樹之深度，node 數目之差異。"
   ]
  },
  {
   "cell_type": "code",
   "execution_count": 4,
   "metadata": {},
   "outputs": [],
   "source": [
    "%matplotlib inline\n",
    "import matplotlib.pyplot as plt\n",
    "\n",
    "acc_50 = pd.read_csv('data/50/acc.csv')\n",
    "depth_50 = pd.read_csv('data/50/depth.csv')\n",
    "node_50 = pd.read_csv('data/50/node.csv')\n",
    "\n",
    "acc_100 = pd.read_csv('data/50/acc.csv')\n",
    "depth_100 = pd.read_csv('data/100/depth.csv')\n",
    "node_100 = pd.read_csv('data/100/node.csv')"
   ]
  },
  {
   "cell_type": "markdown",
   "metadata": {},
   "source": [
    "## 5. Conclusion\n",
    "\n",
    "\n",
    "\n",
    "## 6. References"
   ]
  },
  {
   "cell_type": "code",
   "execution_count": null,
   "metadata": {},
   "outputs": [],
   "source": []
  },
  {
   "cell_type": "code",
   "execution_count": null,
   "metadata": {},
   "outputs": [],
   "source": []
  }
 ],
 "metadata": {
  "kernelspec": {
   "display_name": "Python 3",
   "language": "python",
   "name": "python3"
  },
  "language_info": {
   "codemirror_mode": {
    "name": "ipython",
    "version": 3
   },
   "file_extension": ".py",
   "mimetype": "text/x-python",
   "name": "python",
   "nbconvert_exporter": "python",
   "pygments_lexer": "ipython3",
   "version": "3.6.2"
  }
 },
 "nbformat": 4,
 "nbformat_minor": 2
}
